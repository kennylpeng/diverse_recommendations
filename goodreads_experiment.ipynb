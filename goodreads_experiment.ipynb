{
 "cells": [
  {
   "cell_type": "code",
   "execution_count": 1,
   "metadata": {},
   "outputs": [],
   "source": [
    "import numpy as np\n",
    "import matplotlib.pyplot as plt\n",
    "import pickle\n",
    "import random"
   ]
  },
  {
   "attachments": {},
   "cell_type": "markdown",
   "metadata": {},
   "source": [
    "# Load data"
   ]
  },
  {
   "cell_type": "code",
   "execution_count": 2,
   "metadata": {},
   "outputs": [],
   "source": [
    "def load_pickle(filename):\n",
    "    with open(filename, \"rb\") as f:\n",
    "        data = pickle.load(f)\n",
    "    return data\n",
    "\n",
    "def load_ratings_and_factors():\n",
    "    ratings = load_pickle('data/interaction_ratings')\n",
    "    book_vectors = load_pickle('data/interaction_dict_book_factor')\n",
    "    user_vectors = load_pickle('data/interaction_dict_reader_factor')\n",
    "    return ratings, book_vectors, user_vectors\n",
    "\n",
    "interactions_dict, book_vectors, user_vectors = load_ratings_and_factors()"
   ]
  },
  {
   "attachments": {},
   "cell_type": "markdown",
   "metadata": {},
   "source": [
    "Compute the 1000 x 200 user-book interaction matrix 'interactions', where interactions[i][j] == 1 if and only if user i has interacted with book j."
   ]
  },
  {
   "cell_type": "code",
   "execution_count": 3,
   "metadata": {},
   "outputs": [
    {
     "name": "stdout",
     "output_type": "stream",
     "text": [
      "1000 users\n",
      "200 books\n"
     ]
    }
   ],
   "source": [
    "max_i = max(key[0] for key in interactions_dict.keys())\n",
    "max_j = max(key[1] for key in interactions_dict.keys())\n",
    "num_rows = max_i\n",
    "num_cols = max_j\n",
    "\n",
    "print(num_rows, 'users')\n",
    "print(num_cols, 'books')\n",
    "\n",
    "result_array = np.zeros((num_rows, num_cols), dtype=int)\n",
    "\n",
    "for (i, j), value in interactions_dict.items():\n",
    "    result_array[i-1, j-1] = value\n",
    "\n",
    "# the 1000 x 200 matrix of user-book interactions\n",
    "interactions = result_array"
   ]
  },
  {
   "attachments": {},
   "cell_type": "markdown",
   "metadata": {},
   "source": [
    "Compute the normalized embeddings of each book. book_vectors_normalized[j] is the 10-dimensional normalized embedding for book j."
   ]
  },
  {
   "cell_type": "code",
   "execution_count": 4,
   "metadata": {},
   "outputs": [],
   "source": [
    "def normalize(v, phi=1):\n",
    "    norm = np.linalg.norm(v)\n",
    "    if norm == 0: \n",
    "       return v\n",
    "    return v / (norm ** phi)\n",
    "\n",
    "book_vectors_normalized = np.array([normalize(v) for v in book_vectors])"
   ]
  },
  {
   "attachments": {},
   "cell_type": "markdown",
   "metadata": {},
   "source": [
    "Compute a list of book interactions for each user. interactions_list[i] is a list of books that user i has interacted with."
   ]
  },
  {
   "cell_type": "code",
   "execution_count": 5,
   "metadata": {},
   "outputs": [],
   "source": [
    "interactions_list = [[] for _ in range(1000)]\n",
    "for i in range(1000):\n",
    "    if np.sum(interactions[i]) > 1:\n",
    "        interactions_list[i] = list(np.squeeze(np.where(interactions[i]==1)))"
   ]
  },
  {
   "attachments": {},
   "cell_type": "markdown",
   "metadata": {},
   "source": [
    "Define a function to return a train and test set for a given user."
   ]
  },
  {
   "cell_type": "code",
   "execution_count": 6,
   "metadata": {},
   "outputs": [
    {
     "name": "stdout",
     "output_type": "stream",
     "text": [
      "[87, 86, 68, 89, 84, 93, 50, 57, 56, 78] 80\n"
     ]
    }
   ],
   "source": [
    "''' return a train set of book indices, and a single test book index'''\n",
    "def get_train_test(user, size):\n",
    "    assert np.sum(interactions[user]) > size\n",
    "    train_moods = list(random.sample(interactions_list[user], size + 1))\n",
    "    test_mood = train_moods.pop(random.randint(0, size))\n",
    "    return train_moods, test_mood\n",
    "\n",
    "train_moods, test_mood = get_train_test(1, 10)\n",
    "print(train_moods, test_mood)"
   ]
  },
  {
   "attachments": {},
   "cell_type": "markdown",
   "metadata": {},
   "source": [
    "Compute the 200x200 matrix giving, where the i,j entry is the dot product between book i and book j."
   ]
  },
  {
   "cell_type": "code",
   "execution_count": 7,
   "metadata": {},
   "outputs": [],
   "source": [
    "book_vector_dots = book_vectors_normalized @ book_vectors_normalized.T"
   ]
  },
  {
   "attachments": {},
   "cell_type": "markdown",
   "metadata": {},
   "source": [
    "Define a function to evaluate a set of recommendations given a user's mood. Returns both accuracy (average value of recommendations), and utility (maximum value of recommendations)"
   ]
  },
  {
   "cell_type": "code",
   "execution_count": 8,
   "metadata": {},
   "outputs": [],
   "source": [
    "def relu(x):\n",
    "    return max(0, x)\n",
    "\n",
    "def evaluate(recommendations, test_mood, book_vector_dots):\n",
    "    acc = 0\n",
    "    for j in recommendations:\n",
    "            acc += relu(book_vector_dots[test_mood][j])\n",
    "    acc = acc / len(recommendations)\n",
    "\n",
    "    utility = 0\n",
    "\n",
    "    max_value = 0\n",
    "    for j in recommendations:\n",
    "        value = relu(book_vector_dots[test_mood][j])\n",
    "        if value > max_value:\n",
    "            max_value = value\n",
    "    utility += max_value\n",
    "\n",
    "    return acc, utility"
   ]
  },
  {
   "attachments": {},
   "cell_type": "markdown",
   "metadata": {},
   "source": [
    "Define a function to return a set of empirically accuracy-maximizing recommendations given a user's past interactions."
   ]
  },
  {
   "cell_type": "code",
   "execution_count": 9,
   "metadata": {},
   "outputs": [
    {
     "name": "stdout",
     "output_type": "stream",
     "text": [
      "Accurate recommendations: [29, 138, 47, 57, 37]\n"
     ]
    }
   ],
   "source": [
    "def get_recommendations(train_moods, book_vector_dots, size):\n",
    "    pred_values = []\n",
    "    for i in range(200):\n",
    "        pred_values.append(np.sum([relu(book_vector_dots[i][j]) for j in train_moods]))\n",
    "    \n",
    "    recommendations = []\n",
    "    sorted_list = list(reversed(list(np.argsort(pred_values))))\n",
    "    while len(recommendations) < size:\n",
    "        i = sorted_list.pop(0)\n",
    "        if i not in train_moods:\n",
    "            recommendations.append(i)\n",
    "\n",
    "    return recommendations\n",
    "\n",
    "# Given past interactions [78, 90, 101, 88, 63], return a set of 5 accurate recommendations.\n",
    "print('Accurate recommendations:', get_recommendations([78, 90, 101, 88, 63], book_vector_dots, 5))"
   ]
  },
  {
   "attachments": {},
   "cell_type": "markdown",
   "metadata": {},
   "source": [
    "Define a function to return a random set of size 'size' from a set of candidate books."
   ]
  },
  {
   "cell_type": "code",
   "execution_count": 10,
   "metadata": {},
   "outputs": [],
   "source": [
    "def get_recommendations_random(test_candidates, size):\n",
    "    return random.sample(test_candidates, size)"
   ]
  },
  {
   "attachments": {},
   "cell_type": "markdown",
   "metadata": {},
   "source": [
    "Define a function to return a heuristically diverse set of books that match a user's past distribution of interactions."
   ]
  },
  {
   "cell_type": "code",
   "execution_count": 11,
   "metadata": {},
   "outputs": [
    {
     "name": "stdout",
     "output_type": "stream",
     "text": [
      "Diverse recommendations: [87, 123, 29, 138, 80]\n"
     ]
    }
   ],
   "source": [
    "def get_recommendations_diverse(train_moods, book_vector_dots, size):\n",
    "    recommendations = []\n",
    "    \n",
    "    index = 0\n",
    "    while len(recommendations) < size:\n",
    "        index += 1\n",
    "        j = train_moods[index % len(train_moods)]\n",
    "        pred_values = []\n",
    "        for i in range(200):\n",
    "            pred_values.append(relu(book_vector_dots[i][j]))\n",
    "        \n",
    "        sorted_list = list(reversed(list(np.argsort(pred_values))))\n",
    "        while len(recommendations) < size:\n",
    "            i = sorted_list.pop(0)\n",
    "            if i not in train_moods and i not in recommendations:\n",
    "                recommendations.append(i)\n",
    "                break\n",
    "\n",
    "    return recommendations\n",
    "\n",
    "# Given past interactions [78, 90, 101, 88, 63], return a set of 5 diverse recommendations.\n",
    "print('Diverse recommendations:', get_recommendations_diverse([78, 90, 101, 88, 63], book_vector_dots, 5))"
   ]
  },
  {
   "attachments": {},
   "cell_type": "markdown",
   "metadata": {},
   "source": [
    "Return a measure of diversity of a set of recommendations, equal to the average cosine distance between recommendations in the set."
   ]
  },
  {
   "cell_type": "code",
   "execution_count": 12,
   "metadata": {},
   "outputs": [],
   "source": [
    "def diversity(recommendations, book_vector_dots):\n",
    "    score = 0\n",
    "    num_recs = len(recommendations)\n",
    "    # print(recommendations)\n",
    "    # print(np.shape(book_vector_dots))\n",
    "    for i in range(num_recs):\n",
    "        for j in range(i, num_recs):\n",
    "            score += 1 - book_vector_dots[recommendations[i]][recommendations[j]]\n",
    "    return score / (num_recs * (num_recs - 1) / 2)"
   ]
  },
  {
   "attachments": {},
   "cell_type": "markdown",
   "metadata": {},
   "source": [
    "# Run Experiment\n",
    "\n",
    "Compare accuracy-maximizing recommendations to heurstically-chosen diverse recommendations, varying the number of recommendations made."
   ]
  },
  {
   "cell_type": "code",
   "execution_count": 13,
   "metadata": {},
   "outputs": [],
   "source": [
    "book_vector_dots = book_vectors_normalized @ book_vectors_normalized.T\n",
    "\n",
    "users = [i for i in range(1000) if np.sum(interactions[i]) >= 20]\n",
    "\n",
    "acc_means = []\n",
    "utility_means = []\n",
    "acc_means_diverse = []\n",
    "utility_means_diverse = []\n",
    "acc_vars = []\n",
    "utility_vars = []\n",
    "acc_vars_diverse = []\n",
    "utility_vars_diverse=[]\n",
    "div_means = []\n",
    "div_means_diverse = []\n",
    "\n",
    "for n in [10, 20, 30, 40, 50]:\n",
    "    acc_list = [[] for _ in users]\n",
    "    utility_list = [[] for _ in users]\n",
    "    acc_list_diverse = [[] for _ in users]\n",
    "    utility_list_diverse = [[] for _ in users]\n",
    "    div_list = [[] for _ in users]\n",
    "    div_list_diverse = [[] for _ in users]\n",
    "\n",
    "    for _ in range(100):\n",
    "        for index, i in enumerate(users):\n",
    "            if np.sum(interactions[i]) >= 20:\n",
    "                train_moods, test_mood = get_train_test(0, 10)\n",
    "                recs = get_recommendations(train_moods, book_vector_dots, n)\n",
    "                recs_diverse = get_recommendations_diverse(train_moods, book_vector_dots, n)\n",
    "\n",
    "                div_list[index].append(diversity(recs, book_vector_dots))\n",
    "                div_list_diverse[index].append(diversity(recs_diverse, book_vector_dots))\n",
    "\n",
    "                acc, utility = evaluate(recs, test_mood, book_vector_dots)\n",
    "                acc_list[index].append(acc)\n",
    "                utility_list[index].append(utility)\n",
    "                acc, utility = evaluate(recs_diverse, test_mood, book_vector_dots)\n",
    "                acc_list_diverse[index].append(acc)\n",
    "                utility_list_diverse[index].append(utility)\n",
    "\n",
    "    acc_means.append(np.mean(acc_list))\n",
    "    acc_vars.append(np.mean(np.var(acc_list, axis=1)))\n",
    "    utility_means.append(np.mean(utility_list))\n",
    "    utility_vars.append(np.mean(np.var(utility_list, axis=1)))\n",
    "    div_means.append(np.mean(div_list))\n",
    "    \n",
    "    acc_means_diverse.append(np.mean(acc_list_diverse))\n",
    "    acc_vars_diverse.append(np.mean(np.var(acc_list_diverse, axis=1)))\n",
    "    utility_means_diverse.append(np.mean(utility_list_diverse))\n",
    "    utility_vars_diverse.append(np.mean(np.var(utility_list_diverse, axis=1)))\n",
    "    div_means_diverse.append(np.mean(div_list_diverse))"
   ]
  },
  {
   "attachments": {},
   "cell_type": "markdown",
   "metadata": {},
   "source": [
    "# Figure 4\n",
    "\n",
    "Make plot."
   ]
  },
  {
   "cell_type": "code",
   "execution_count": 14,
   "metadata": {},
   "outputs": [
    {
     "data": {
      "image/png": "[encoded data removed]",
      "text/plain": [
       "<Figure size 576x432 with 3 Axes>"
      ]
     },
     "metadata": {
      "needs_background": "light"
     },
     "output_type": "display_data"
    }
   ],
   "source": [
    "fig, (ax1, ax2, ax3) = plt.subplots(1, 3, figsize=(8,6))\n",
    "\n",
    "ns = [10, 20, 30, 40, 50]\n",
    "\n",
    "for ax in [ax1, ax2, ax3]:\n",
    "    ax.grid(axis='x')\n",
    "    ax.set_xticks(ns)\n",
    "    ax.tick_params(labelsize=14)\n",
    "    ax.set_xlim(5,55)\n",
    "    ax.set_xlabel(r'$n$', fontsize=16)\n",
    "\n",
    "ax2.scatter(ns, acc_means, color='blue', alpha = 0.5, label='Acc-maximizing recs')\n",
    "ax2.scatter(ns, acc_means_diverse, color='red', alpha = 0.5, label='Diverse recs')\n",
    "ax2.set_title('Accuracy', fontsize=16)\n",
    "\n",
    "ax1.scatter(ns, utility_means, color='blue', alpha = 0.5)\n",
    "ax1.scatter(ns, utility_means_diverse, color='red', alpha = 0.5)\n",
    "ax1.set_title('Utility', fontsize=16)\n",
    "\n",
    "ax3.scatter(ns, div_means, color='blue', alpha = 0.5)\n",
    "ax3.scatter(ns, div_means_diverse, color='red', alpha = 0.5)\n",
    "ax3.set_title('Diversity', fontsize=16)\n",
    "\n",
    "fig.legend(fontsize=16, loc=\"lower center\", ncol = 2, bbox_to_anchor=(0.5, 0.82))\n",
    "\n",
    "fig.suptitle('Continuous setting \\n\\n', fontsize=20)\n",
    "fig.tight_layout(pad=1.2)\n",
    "plt.savefig('goodreads.png', dpi=300)\n",
    "plt.show()"
   ]
  }
 ],
 "metadata": {
  "kernelspec": {
   "display_name": "Python 3",
   "language": "python",
   "name": "python3"
  },
  "language_info": {
   "codemirror_mode": {
    "name": "ipython",
    "version": 3
   },
   "file_extension": ".py",
   "mimetype": "text/x-python",
   "name": "python",
   "nbconvert_exporter": "python",
   "pygments_lexer": "ipython3",
   "version": "3.8.5"
  },
  "orig_nbformat": 4,
  "vscode": {
   "interpreter": {
    "hash": "aee8b7b246df8f9039afb4144a1f6fd8d2ca17a180786b69acc140d282b71a49"
   }
  }
 },
 "nbformat": 4,
 "nbformat_minor": 2
}
